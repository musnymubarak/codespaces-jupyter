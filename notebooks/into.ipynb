{
 "cells": [
  {
   "cell_type": "code",
   "execution_count": 2,
   "metadata": {},
   "outputs": [
    {
     "name": "stdout",
     "output_type": "stream",
     "text": [
      "HEllo world!*python 3\n"
     ]
    }
   ],
   "source": [
    "print(\"HEllo world!\", end=\"*\")\n",
    "print('python 3')"
   ]
  },
  {
   "cell_type": "code",
   "execution_count": 8,
   "metadata": {},
   "outputs": [
    {
     "name": "stdout",
     "output_type": "stream",
     "text": [
      "IT AMC Tech\n",
      "IT-AMC-Tech\n"
     ]
    }
   ],
   "source": [
    "print(\"IT\",\"AMC\",\"Tech\")\n",
    "print(\"IT\",\"AMC\",\"Tech\",sep='-')"
   ]
  },
  {
   "cell_type": "code",
   "execution_count": 9,
   "metadata": {},
   "outputs": [
    {
     "name": "stdout",
     "output_type": "stream",
     "text": [
      "Python/Java/PHP!\n",
      "IT/AMC/Tech!"
     ]
    }
   ],
   "source": [
    "print('Python','Java','PHP',sep='/',end='!\\n')\n",
    "print(\"IT\",\"AMC\",\"Tech\",sep='/',end='!')\n"
   ]
  },
  {
   "cell_type": "code",
   "execution_count": 16,
   "metadata": {},
   "outputs": [
    {
     "name": "stdout",
     "output_type": "stream",
     "text": [
      "aa\n",
      "*\n",
      "***///"
     ]
    }
   ],
   "source": [
    "print('a' * 2)\n",
    "print('*')\n",
    "print('*' * 3,end='/' * 3)"
   ]
  }
 ],
 "metadata": {
  "kernelspec": {
   "display_name": "Python 3",
   "language": "python",
   "name": "python3"
  },
  "language_info": {
   "codemirror_mode": {
    "name": "ipython",
    "version": 3
   },
   "file_extension": ".py",
   "mimetype": "text/x-python",
   "name": "python",
   "nbconvert_exporter": "python",
   "pygments_lexer": "ipython3",
   "version": "3.10.13"
  }
 },
 "nbformat": 4,
 "nbformat_minor": 2
}
