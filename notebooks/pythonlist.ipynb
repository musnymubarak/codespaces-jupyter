{
 "cells": [
  {
   "cell_type": "code",
   "execution_count": 7,
   "metadata": {},
   "outputs": [
    {
     "name": "stdout",
     "output_type": "stream",
     "text": [
      "[1, 4]\n"
     ]
    }
   ],
   "source": [
    "#Find the comon element in both list\n",
    "\n",
    "lst1=[1,2,3,4,5]\n",
    "lst2=[1,4,6,7,9]\n",
    "cmn_lst=[]\n",
    "\n",
    "for ele1 in lst1:\n",
    "    if ele1 in lst2 and ele1 not in cmn_lst:\n",
    "            cmn_lst.append(ele1)\n",
    "print(cmn_lst)"
   ]
  },
  {
   "cell_type": "code",
   "execution_count": 6,
   "metadata": {},
   "outputs": [
    {
     "name": "stdout",
     "output_type": "stream",
     "text": [
      "[4, 8, 5, 9, 2, 1]\n"
     ]
    }
   ],
   "source": [
    "#Remove duplicates from the list\n",
    "\n",
    "lst=[4,8,5,9,8,4,2,1]\n",
    "lst2=[]\n",
    "\n",
    "for i in lst:\n",
    "   if i not in lst2:\n",
    "     lst2.append(i)\n",
    "     \n",
    "print(lst2)"
   ]
  }
 ],
 "metadata": {
  "kernelspec": {
   "display_name": "Python 3",
   "language": "python",
   "name": "python3"
  },
  "language_info": {
   "codemirror_mode": {
    "name": "ipython",
    "version": 3
   },
   "file_extension": ".py",
   "mimetype": "text/x-python",
   "name": "python",
   "nbconvert_exporter": "python",
   "pygments_lexer": "ipython3",
   "version": "3.10.13"
  }
 },
 "nbformat": 4,
 "nbformat_minor": 2
}
